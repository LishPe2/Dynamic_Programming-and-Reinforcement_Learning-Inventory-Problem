{
 "cells": [
  {
   "cell_type": "code",
   "execution_count": 166,
   "metadata": {},
   "outputs": [],
   "source": [
    "import gurobipy as gp\n",
    "import numpy as np\n",
    "from scipy.stats import poisson\n",
    "from gurobipy import GRB\n",
    "import random\n",
    "import matplotlib.pyplot as plt"
   ]
  },
  {
   "cell_type": "markdown",
   "metadata": {},
   "source": [
    "# Part I"
   ]
  },
  {
   "cell_type": "markdown",
   "metadata": {},
   "source": [
    "## 1."
   ]
  },
  {
   "cell_type": "code",
   "execution_count": 3,
   "metadata": {},
   "outputs": [],
   "source": [
    "states = [i for i in range(50,-31,-1)]\n",
    "prob = poisson(10)"
   ]
  },
  {
   "cell_type": "code",
   "execution_count": 4,
   "metadata": {},
   "outputs": [],
   "source": [
    "tran_matrix = np.zeros((81,81))\n",
    "temp = []\n",
    "for i in range(81):\n",
    "    flag = 50 - states[i]\n",
    "    temp.append(prob.pmf(flag))\n",
    "for i in range(51):\n",
    "    tran_matrix[i] = temp\n",
    "\n",
    "for i in range(51,81):\n",
    "    temp = []\n",
    "    for j in range(81):\n",
    "        flag = 50 + states[i] - states[j]\n",
    "        temp.append(prob.pmf(flag))\n",
    "    tran_matrix[i] = temp"
   ]
  },
  {
   "cell_type": "markdown",
   "metadata": {},
   "source": [
    "## 2a."
   ]
  },
  {
   "cell_type": "code",
   "execution_count": null,
   "metadata": {},
   "outputs": [],
   "source": []
  },
  {
   "cell_type": "code",
   "execution_count": null,
   "metadata": {},
   "outputs": [],
   "source": []
  },
  {
   "cell_type": "markdown",
   "metadata": {},
   "source": [
    "# Part II"
   ]
  },
  {
   "cell_type": "markdown",
   "metadata": {},
   "source": [
    "<span style=\"font-family:Times New Roman; font-size:1.4em;\">\n",
    "\n",
    "Let's first specify the model. We will assume the manager will pay for the inventory, backlog and new units he ordered at the same time of ordering the new units. Furthermore, we will define $\\delta$\tas the number of inventroys after ordering. \n",
    "    \n",
    "</span>"
   ]
  },
  {
   "cell_type": "code",
   "execution_count": 493,
   "metadata": {},
   "outputs": [],
   "source": [
    "class DP():\n",
    "    def __init__(self,gama, c, b, h, max_iter = 50):\n",
    "        self.gama = gama\n",
    "        self.c = c\n",
    "        self.b = b\n",
    "        self.h = h\n",
    "        self.states_dp = [i for i in range(-30,101)]\n",
    "        self.max_iter = max_iter\n",
    "        self.tran_matrixes = [self.tran_matrix_delta(i-30) for i in range(131)]\n",
    "        self.best_delta = []\n",
    "            \n",
    "    def value_iteration(self):\n",
    "        beta = 0.9\n",
    "        #innitialize the V(0):\n",
    "        v_current = np.zeros(131)\n",
    "        #define the r(x,delta), the reward function:\n",
    "        r = lambda x, delta: -((delta-x)*self.c + self.h*int(x>=0)*x - x*self.b*int(x<0))\n",
    "        #interate until converges\n",
    "        for n in range(self.max_iter):\n",
    "            v_next = np.zeros(131)\n",
    "            for i in range(131):\n",
    "                x = i-30\n",
    "                v_x_delta = []\n",
    "                deltas = self.possible_deltas(x)\n",
    "                for delta in deltas:\n",
    "                    P = self.tran_matrixes[delta+30]\n",
    "                    temp = r(x,delta) + beta*P[i].dot(v_current)\n",
    "                    v_x_delta.append(temp)\n",
    "                v_next[i] = max(v_x_delta)\n",
    "            v_current = v_next\n",
    "            self.v = v_current\n",
    "        \n",
    "        for i in range(131):\n",
    "            x = i-30\n",
    "            v_x_delta = []\n",
    "            deltas = self.possible_deltas(x)\n",
    "            for delta in deltas:\n",
    "                P = self.tran_matrixes[delta+30]\n",
    "                temp = r(x,delta) + beta*P[i].dot(self.v)\n",
    "                v_x_delta.append(temp)\n",
    "            self.best_delta.append(v_x_delta.index(max(v_x_delta))+x)   \n",
    "        \n",
    "    #define possible actions given x:\n",
    "    def possible_deltas(self, x):\n",
    "        return self.states_dp[x+30:]\n",
    "    \n",
    "    #define a function to generate the corresponding probability matrix when given an action and a mean.\n",
    "    def tran_matrix_delta(self, delta):\n",
    "        prob_gama = poisson(self.gama)\n",
    "        tran_matrix_delta = np.zeros((131,131))\n",
    "        temp = []\n",
    "        for i in range(131):\n",
    "            flag = delta - self.states_dp[i]\n",
    "            temp.append(prob_gama.pmf(flag))\n",
    "        temp[0] = 1-sum(temp[1:])        \n",
    "        for i in range(delta+30+1):\n",
    "            tran_matrix_delta[i] = temp\n",
    "        return tran_matrix_delta"
   ]
  },
  {
   "cell_type": "code",
   "execution_count": 488,
   "metadata": {},
   "outputs": [],
   "source": [
    "models = [DP(15,1,i,j) for (i, j) in [(5,2),(20,2),(2,5),(2,20)]]"
   ]
  },
  {
   "cell_type": "code",
   "execution_count": 489,
   "metadata": {},
   "outputs": [
    {
     "data": {
      "text/plain": [
       "<matplotlib.collections.PathCollection at 0x7fd7ca4cf9d0>"
      ]
     },
     "execution_count": 489,
     "metadata": {},
     "output_type": "execute_result"
    },
    {
     "data": {
      "image/png": "[encoded data removed]",
      "text/plain": [
       "<Figure size 432x288 with 1 Axes>"
      ]
     },
     "metadata": {
      "needs_background": "light"
     },
     "output_type": "display_data"
    }
   ],
   "source": [
    "for model in models:\n",
    "    model.value_iteration()\n",
    "plt.scatter([i for i in range(-30,101)],models[0].best_delta)\n",
    "plt.scatter([i for i in range(-30,101)],models[1].best_delta)"
   ]
  },
  {
   "cell_type": "code",
   "execution_count": 490,
   "metadata": {},
   "outputs": [
    {
     "data": {
      "text/plain": [
       "<matplotlib.collections.PathCollection at 0x7fd80b959df0>"
      ]
     },
     "execution_count": 490,
     "metadata": {},
     "output_type": "execute_result"
    },
    {
     "data": {
      "image/png": "[encoded data removed]",
      "text/plain": [
       "<Figure size 432x288 with 1 Axes>"
      ]
     },
     "metadata": {
      "needs_background": "light"
     },
     "output_type": "display_data"
    }
   ],
   "source": [
    "plt.scatter([i for i in range(-30,101)],models[2].best_delta)\n",
    "plt.scatter([i for i in range(-30,101)],models[3].best_delta)"
   ]
  },
  {
   "cell_type": "code",
   "execution_count": null,
   "metadata": {},
   "outputs": [],
   "source": []
  },
  {
   "cell_type": "markdown",
   "metadata": {},
   "source": [
    "# Part III"
   ]
  },
  {
   "cell_type": "code",
   "execution_count": 470,
   "metadata": {},
   "outputs": [],
   "source": [
    "class Q_Learning():\n",
    "    def __init__(self,gama,c,b,h,max_iter = 200000):\n",
    "        self.Q = np.zeros((131,131))\n",
    "        #since the reward is negative, we shall avoid using zero are initial values.\n",
    "        self.Q -= 800\n",
    "        self.gama = gama\n",
    "        self.beta = 0.9\n",
    "        self.c = c\n",
    "        self.b = b\n",
    "        self.h = h\n",
    "        self.states = [i for i in range(-30,101)]\n",
    "        self.max_iter = max_iter\n",
    "        self.t = 1\n",
    "        self.alpha = 1/self.t**(0.5+ np.finfo(float).eps)\n",
    "        self.best_delta = []\n",
    "        self.v = []\n",
    "        self.test = []\n",
    "        \n",
    "    def update(self):\n",
    "        r = lambda x, delta: -((delta-x)*self.c + self.h*int(x>=0)*x - x*self.b*int(x<0))     \n",
    "        x_t = random.choice(self.states)\n",
    "        epsilon = 0.2\n",
    "        #explore and exploit\n",
    "        for n in range(self.max_iter):\n",
    "            if random.uniform(0, 1) < epsilon:\n",
    "                #explore a random action\n",
    "                delta_t = random.choice(self.possible_deltas(x_t))\n",
    "                x_t_1 = max(delta_t - np.random.poisson(self.gama),-30)                \n",
    "                self.Q[x_t+30,delta_t+30] = self.Q[x_t+30,delta_t+30]\\\n",
    "                + self.alpha*(r(x_t,delta_t)+self.beta*np.max(self.Q[x_t_1+30,x_t_1+30:])-self.Q[x_t+30,delta_t+30])\n",
    "                self.t += 1\n",
    "                self.alpha = 1/self.t**(0.5+ np.finfo(float).eps)\n",
    "                x_t = x_t_1\n",
    "            else:\n",
    "                #exploit the current optimal feasible action (optimal actions in the set of actions\n",
    "                #that are greater or equal to x_t)\n",
    "                delta_t = np.argmax(self.Q[x_t+30,x_t+30:]) - 30\n",
    "                x_t_1 = max(delta_t - np.random.poisson(self.gama),-30)                \n",
    "                self.Q[x_t+30,delta_t+30] = self.Q[x_t+30,delta_t+30]\\\n",
    "                + self.alpha*(r(x_t,delta_t)+self.beta*np.max(self.Q[x_t_1+30,x_t_1+30:])-self.Q[x_t+30,delta_t+30])\n",
    "                self.t += 1\n",
    "                self.alpha = 1/self.t**(0.5+ np.finfo(float).eps)\n",
    "                x_t = x_t_1\n",
    "        \n",
    "        for i in range(131):\n",
    "            self.best_delta.append(np.argmax(self.Q[i])-30)\n",
    "            self.v.append(max(self.Q[i]))\n",
    "    \n",
    "    #define possible actions given x:\n",
    "    def possible_deltas(self, x):\n",
    "        return self.states[x+30:]\n"
   ]
  },
  {
   "cell_type": "code",
   "execution_count": 494,
   "metadata": {},
   "outputs": [],
   "source": [
    "test = DP(15,1,10,2)\n",
    "test.value_iteration()"
   ]
  },
  {
   "cell_type": "code",
   "execution_count": 471,
   "metadata": {},
   "outputs": [],
   "source": [
    "test_2 = Q_Learning(15,1,10,2)\n",
    "test_2.update()"
   ]
  },
  {
   "cell_type": "code",
   "execution_count": 472,
   "metadata": {},
   "outputs": [
    {
     "data": {
      "text/plain": [
       "<matplotlib.collections.PathCollection at 0x7fd80a3b1820>"
      ]
     },
     "execution_count": 472,
     "metadata": {},
     "output_type": "execute_result"
    },
    {
     "data": {
      "image/png": "[encoded data removed]",
      "text/plain": [
       "<Figure size 432x288 with 1 Axes>"
      ]
     },
     "metadata": {
      "needs_background": "light"
     },
     "output_type": "display_data"
    }
   ],
   "source": [
    "plt.scatter(states,test_2.v)\n",
    "plt.scatter(states,test.v)"
   ]
  },
  {
   "cell_type": "code",
   "execution_count": 473,
   "metadata": {
    "scrolled": true
   },
   "outputs": [
    {
     "data": {
      "text/plain": [
       "<matplotlib.collections.PathCollection at 0x7fd7ca3292e0>"
      ]
     },
     "execution_count": 473,
     "metadata": {},
     "output_type": "execute_result"
    },
    {
     "data": {
      "image/png": "[encoded data removed]",
      "text/plain": [
       "<Figure size 432x288 with 1 Axes>"
      ]
     },
     "metadata": {
      "needs_background": "light"
     },
     "output_type": "display_data"
    }
   ],
   "source": [
    "plt.scatter(states,test_2.best_delta)\n",
    "plt.scatter(states,test.best_delta)"
   ]
  },
  {
   "cell_type": "markdown",
   "metadata": {},
   "source": []
  }
 ],
 "metadata": {
  "kernelspec": {
   "display_name": "Python 3",
   "language": "python",
   "name": "python3"
  },
  "language_info": {
   "codemirror_mode": {
    "name": "ipython",
    "version": 3
   },
   "file_extension": ".py",
   "mimetype": "text/x-python",
   "name": "python",
   "nbconvert_exporter": "python",
   "pygments_lexer": "ipython3",
   "version": "3.8.3"
  }
 },
 "nbformat": 4,
 "nbformat_minor": 4
}
